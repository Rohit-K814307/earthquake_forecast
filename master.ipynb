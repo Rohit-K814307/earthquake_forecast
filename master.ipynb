{
 "cells": [
  {
   "cell_type": "code",
   "execution_count": 1,
   "metadata": {},
   "outputs": [],
   "source": [
    "%load_ext autoreload\n",
    "%autoreload 2"
   ]
  },
  {
   "cell_type": "code",
   "execution_count": 2,
   "metadata": {},
   "outputs": [],
   "source": [
    "from eq_forecast.data.class_eq_dataset import EQ_Dataset\n",
    "from eq_forecast.data.create_final_data import create_datasets\n",
    "from eq_forecast.models.TGNN import TemporalGNN\n",
    "from eq_forecast.utils.train_and_eval import train_and_eval\n",
    "\n",
    "import torch"
   ]
  },
  {
   "cell_type": "code",
   "execution_count": 7,
   "metadata": {},
   "outputs": [],
   "source": [
    "\"\"\"HYPERPARAMS\"\"\"\n",
    "\n",
    "#Data\n",
    "START_TIME=\"2000-01-01\"\n",
    "END_TIME=\"2015-01-01\"\n",
    "MIN_LAT=24.39630\n",
    "MAX_LAT=49.3547868\n",
    "MIN_LON=-124.7844079\n",
    "MAX_LON=-66.93457\n",
    "MIN_MAG=3.5\n",
    "GRID_X=10\n",
    "GRID_Y=10\n",
    "WINDOW_DURATION_MS=86400000   #24 hrs\n",
    "WINDOW_OVERLAP_DURATION_MS=43200000 #12 hrs\n",
    "DELTA_TIME_DECAY=0.01\n",
    "\n",
    "#Model\n",
    "BATCH_SIZE=16\n",
    "HIDDEN_DIM=32\n",
    "\n",
    "#Training\n",
    "EPOCHS=100\n",
    "LR=1e-4\n",
    "LR_FACTOR=0.1\n",
    "LR_PATIENCE=7\n",
    "EARLY_STOP_PATIENCE=10"
   ]
  },
  {
   "cell_type": "code",
   "execution_count": null,
   "metadata": {},
   "outputs": [],
   "source": [
    "dataset = EQ_Dataset(start_time=START_TIME, \n",
    "                 end_time=END_TIME, \n",
    "                 min_lat=MIN_LAT, \n",
    "                 max_lat=MAX_LAT, \n",
    "                 min_lon=MIN_LON, \n",
    "                 max_lon=MAX_LON, \n",
    "                 min_magnitude=MIN_MAG, \n",
    "                 batch_size=BATCH_SIZE,\n",
    "                 n_lat=GRID_Y, \n",
    "                 n_lon=GRID_X, \n",
    "                 window_time_length=WINDOW_DURATION_MS, \n",
    "                 overlap_time_length=WINDOW_OVERLAP_DURATION_MS,\n",
    "                 time_sensitivity=DELTA_TIME_DECAY,\n",
    "                 save_data=True, \n",
    "                 agg_new_data=False)\n",
    "\n",
    "train_dataset, val_dataset, test_dataset = create_datasets(dataset)"
   ]
  },
  {
   "cell_type": "code",
   "execution_count": null,
   "metadata": {},
   "outputs": [],
   "source": [
    "tgnn = TemporalGNN(node_features=5, \n",
    "                   periods=123,\n",
    "                   hidden_dim=HIDDEN_DIM,\n",
    "                   out_features=3,\n",
    "                   batch_size=BATCH_SIZE)\n",
    "\n",
    "train_and_eval(\n",
    "    train_set=train_dataset,\n",
    "    test_set=test_dataset,\n",
    "    val_set=val_dataset,\n",
    "    model=tgnn,\n",
    "    num_epochs=EPOCHS,\n",
    "    lr=LR,\n",
    "    lr_factor=LR_FACTOR,\n",
    "    lr_patience=LR_PATIENCE,\n",
    "    model_name=\"TGNN\",\n",
    "    batch_size=BATCH_SIZE,\n",
    "    device=torch.device('cuda' if torch.cuda.is_available() else 'cpu'),\n",
    "    checkpoint_dir=\"checkpoints\",\n",
    "    log_dir=\"runs\",\n",
    "    save_interval=10,\n",
    "    early_stop_patience=EARLY_STOP_PATIENCE\n",
    ")"
   ]
  }
 ],
 "metadata": {
  "kernelspec": {
   "display_name": "eq_geom",
   "language": "python",
   "name": "python3"
  },
  "language_info": {
   "codemirror_mode": {
    "name": "ipython",
    "version": 3
   },
   "file_extension": ".py",
   "mimetype": "text/x-python",
   "name": "python",
   "nbconvert_exporter": "python",
   "pygments_lexer": "ipython3",
   "version": "3.10.16"
  }
 },
 "nbformat": 4,
 "nbformat_minor": 2
}
