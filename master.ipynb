{
 "cells": [
  {
   "cell_type": "code",
   "execution_count": 1,
   "metadata": {},
   "outputs": [],
   "source": [
    "%load_ext autoreload\n",
    "%autoreload 2"
   ]
  },
  {
   "cell_type": "code",
   "execution_count": 2,
   "metadata": {},
   "outputs": [],
   "source": [
    "from eq_forecast.data.class_eq_dataset import EQ_Dataset\n",
    "from eq_forecast.data.create_final_data import create_datasets\n",
    "from eq_forecast.models.TGNN import TemporalGNN\n",
    "from eq_forecast.utils.train_and_eval import train_and_eval\n",
    "\n",
    "import torch"
   ]
  },
  {
   "cell_type": "code",
   "execution_count": 7,
   "metadata": {},
   "outputs": [],
   "source": [
    "\"\"\"HYPERPARAMS\"\"\"\n",
    "\n",
    "#Data\n",
    "START_TIME=\"2000-01-01\"\n",
    "END_TIME=\"2015-01-01\"\n",
    "MIN_LAT=24.39630\n",
    "MAX_LAT=49.3547868\n",
    "MIN_LON=-124.7844079\n",
    "MAX_LON=-66.93457\n",
    "MIN_MAG=3.5\n",
    "GRID_X=10\n",
    "GRID_Y=10\n",
    "WINDOW_DURATION_MS=86400000   #24 hrs\n",
    "WINDOW_OVERLAP_DURATION_MS=43200000 #12 hrs\n",
    "DELTA_TIME_DECAY=0.01\n",
    "\n",
    "#Model\n",
    "BATCH_SIZE=16\n",
    "HIDDEN_DIM=32\n",
    "\n",
    "#Training\n",
    "EPOCHS=100\n",
    "LR=1e-4\n",
    "LR_FACTOR=0.1\n",
    "LR_PATIENCE=7\n",
    "EARLY_STOP_PATIENCE=10"
   ]
  },
  {
   "cell_type": "code",
   "execution_count": 10,
   "metadata": {},
   "outputs": [
    {
     "name": "stderr",
     "output_type": "stream",
     "text": [
      "Aggregating Graph Data: 100%|██████████| 100/100 [00:37<00:00,  2.64it/s]\n"
     ]
    },
    {
     "name": "stdout",
     "output_type": "stream",
     "text": [
      "making magnitude distribution...\n",
      "making depth distribution...\n",
      "making plate distance distribution\n",
      "making seismic heatmap...\n",
      "making magnitude distribution...\n",
      "making depth distribution...\n",
      "making plate distance distribution\n",
      "making seismic heatmap...\n"
     ]
    },
    {
     "name": "stderr",
     "output_type": "stream",
     "text": [
      "Identifying Events: 100%|██████████| 100/100 [00:00<00:00, 28490.04it/s]\n",
      "Collecting Time Window Graphs: 100%|█████████▉| 10952/10955 [00:21<00:00, 510.47window/s]\n"
     ]
    },
    {
     "name": "stdout",
     "output_type": "stream",
     "text": [
      "Max events per sequence: 123\n"
     ]
    },
    {
     "name": "stderr",
     "output_type": "stream",
     "text": [
      "Building Feature Matrices: 100%|██████████| 10952/10952 [04:26<00:00, 41.09it/s]\n",
      "Building Label Matrices: 100%|██████████| 10952/10952 [02:44<00:00, 66.67it/s]\n"
     ]
    }
   ],
   "source": [
    "dataset = EQ_Dataset(start_time=START_TIME, \n",
    "                 end_time=END_TIME, \n",
    "                 min_lat=MIN_LAT, \n",
    "                 max_lat=MAX_LAT, \n",
    "                 min_lon=MIN_LON, \n",
    "                 max_lon=MAX_LON, \n",
    "                 min_magnitude=MIN_MAG, \n",
    "                 batch_size=BATCH_SIZE,\n",
    "                 n_lat=GRID_Y, \n",
    "                 n_lon=GRID_X, \n",
    "                 window_time_length=WINDOW_DURATION_MS, \n",
    "                 overlap_time_length=WINDOW_OVERLAP_DURATION_MS,\n",
    "                 time_sensitivity=DELTA_TIME_DECAY,\n",
    "                 save_data=True, \n",
    "                 agg_new_data=False)\n",
    "\n",
    "train_dataset, val_dataset, test_dataset = create_datasets(dataset)"
   ]
  },
  {
   "cell_type": "code",
   "execution_count": 12,
   "metadata": {},
   "outputs": [
    {
     "name": "stdout",
     "output_type": "stream",
     "text": [
      "Training TGNN model:\n",
      "TemporalGNN(\n",
      "  (tgnn): A3TGCN2(\n",
      "    (_base_tgcn): TGCN2(\n",
      "      (conv_z): GCNConv(5, 32)\n",
      "      (linear_z): Linear(in_features=64, out_features=32, bias=True)\n",
      "      (conv_r): GCNConv(5, 32)\n",
      "      (linear_r): Linear(in_features=64, out_features=32, bias=True)\n",
      "      (conv_h): GCNConv(5, 32)\n",
      "      (linear_h): Linear(in_features=64, out_features=32, bias=True)\n",
      "    )\n",
      "  )\n",
      "  (linear): Linear(in_features=32, out_features=369, bias=True)\n",
      ")\n"
     ]
    },
    {
     "name": "stderr",
     "output_type": "stream",
     "text": [
      "Epoch 1/100 | Training: 548it [17:03,  1.87s/it]\n"
     ]
    },
    {
     "ename": "AttributeError",
     "evalue": "'StaticGraphTemporalSignal' object has no attribute 'dataset'",
     "output_type": "error",
     "traceback": [
      "\u001b[0;31m---------------------------------------------------------------------------\u001b[0m",
      "\u001b[0;31mAttributeError\u001b[0m                            Traceback (most recent call last)",
      "Cell \u001b[0;32mIn[12], line 7\u001b[0m\n\u001b[1;32m      1\u001b[0m tgnn \u001b[38;5;241m=\u001b[39m TemporalGNN(node_features\u001b[38;5;241m=\u001b[39m\u001b[38;5;241m5\u001b[39m, \n\u001b[1;32m      2\u001b[0m                    periods\u001b[38;5;241m=\u001b[39m\u001b[38;5;241m123\u001b[39m,\n\u001b[1;32m      3\u001b[0m                    hidden_dim\u001b[38;5;241m=\u001b[39mHIDDEN_DIM,\n\u001b[1;32m      4\u001b[0m                    out_features\u001b[38;5;241m=\u001b[39m\u001b[38;5;241m3\u001b[39m,\n\u001b[1;32m      5\u001b[0m                    batch_size\u001b[38;5;241m=\u001b[39mBATCH_SIZE)\n\u001b[0;32m----> 7\u001b[0m \u001b[43mtrain_and_eval\u001b[49m\u001b[43m(\u001b[49m\n\u001b[1;32m      8\u001b[0m \u001b[43m    \u001b[49m\u001b[43mtrain_set\u001b[49m\u001b[38;5;241;43m=\u001b[39;49m\u001b[43mtrain_dataset\u001b[49m\u001b[43m,\u001b[49m\n\u001b[1;32m      9\u001b[0m \u001b[43m    \u001b[49m\u001b[43mtest_set\u001b[49m\u001b[38;5;241;43m=\u001b[39;49m\u001b[43mtest_dataset\u001b[49m\u001b[43m,\u001b[49m\n\u001b[1;32m     10\u001b[0m \u001b[43m    \u001b[49m\u001b[43mval_set\u001b[49m\u001b[38;5;241;43m=\u001b[39;49m\u001b[43mval_dataset\u001b[49m\u001b[43m,\u001b[49m\n\u001b[1;32m     11\u001b[0m \u001b[43m    \u001b[49m\u001b[43mmodel\u001b[49m\u001b[38;5;241;43m=\u001b[39;49m\u001b[43mtgnn\u001b[49m\u001b[43m,\u001b[49m\n\u001b[1;32m     12\u001b[0m \u001b[43m    \u001b[49m\u001b[43mnum_epochs\u001b[49m\u001b[38;5;241;43m=\u001b[39;49m\u001b[43mEPOCHS\u001b[49m\u001b[43m,\u001b[49m\n\u001b[1;32m     13\u001b[0m \u001b[43m    \u001b[49m\u001b[43mlr\u001b[49m\u001b[38;5;241;43m=\u001b[39;49m\u001b[43mLR\u001b[49m\u001b[43m,\u001b[49m\n\u001b[1;32m     14\u001b[0m \u001b[43m    \u001b[49m\u001b[43mlr_factor\u001b[49m\u001b[38;5;241;43m=\u001b[39;49m\u001b[43mLR_FACTOR\u001b[49m\u001b[43m,\u001b[49m\n\u001b[1;32m     15\u001b[0m \u001b[43m    \u001b[49m\u001b[43mlr_patience\u001b[49m\u001b[38;5;241;43m=\u001b[39;49m\u001b[43mLR_PATIENCE\u001b[49m\u001b[43m,\u001b[49m\n\u001b[1;32m     16\u001b[0m \u001b[43m    \u001b[49m\u001b[43mmodel_name\u001b[49m\u001b[38;5;241;43m=\u001b[39;49m\u001b[38;5;124;43m\"\u001b[39;49m\u001b[38;5;124;43mTGNN\u001b[39;49m\u001b[38;5;124;43m\"\u001b[39;49m\u001b[43m,\u001b[49m\n\u001b[1;32m     17\u001b[0m \u001b[43m    \u001b[49m\u001b[43mbatch_size\u001b[49m\u001b[38;5;241;43m=\u001b[39;49m\u001b[43mBATCH_SIZE\u001b[49m\u001b[43m,\u001b[49m\n\u001b[1;32m     18\u001b[0m \u001b[43m    \u001b[49m\u001b[43mdevice\u001b[49m\u001b[38;5;241;43m=\u001b[39;49m\u001b[43mtorch\u001b[49m\u001b[38;5;241;43m.\u001b[39;49m\u001b[43mdevice\u001b[49m\u001b[43m(\u001b[49m\u001b[38;5;124;43m'\u001b[39;49m\u001b[38;5;124;43mcuda\u001b[39;49m\u001b[38;5;124;43m'\u001b[39;49m\u001b[43m \u001b[49m\u001b[38;5;28;43;01mif\u001b[39;49;00m\u001b[43m \u001b[49m\u001b[43mtorch\u001b[49m\u001b[38;5;241;43m.\u001b[39;49m\u001b[43mcuda\u001b[49m\u001b[38;5;241;43m.\u001b[39;49m\u001b[43mis_available\u001b[49m\u001b[43m(\u001b[49m\u001b[43m)\u001b[49m\u001b[43m \u001b[49m\u001b[38;5;28;43;01melse\u001b[39;49;00m\u001b[43m \u001b[49m\u001b[38;5;124;43m'\u001b[39;49m\u001b[38;5;124;43mcpu\u001b[39;49m\u001b[38;5;124;43m'\u001b[39;49m\u001b[43m)\u001b[49m\u001b[43m,\u001b[49m\n\u001b[1;32m     19\u001b[0m \u001b[43m    \u001b[49m\u001b[43mcheckpoint_dir\u001b[49m\u001b[38;5;241;43m=\u001b[39;49m\u001b[38;5;124;43m\"\u001b[39;49m\u001b[38;5;124;43mcheckpoints\u001b[39;49m\u001b[38;5;124;43m\"\u001b[39;49m\u001b[43m,\u001b[49m\n\u001b[1;32m     20\u001b[0m \u001b[43m    \u001b[49m\u001b[43mlog_dir\u001b[49m\u001b[38;5;241;43m=\u001b[39;49m\u001b[38;5;124;43m\"\u001b[39;49m\u001b[38;5;124;43mruns\u001b[39;49m\u001b[38;5;124;43m\"\u001b[39;49m\u001b[43m,\u001b[49m\n\u001b[1;32m     21\u001b[0m \u001b[43m    \u001b[49m\u001b[43msave_interval\u001b[49m\u001b[38;5;241;43m=\u001b[39;49m\u001b[38;5;241;43m10\u001b[39;49m\u001b[43m,\u001b[49m\n\u001b[1;32m     22\u001b[0m \u001b[43m    \u001b[49m\u001b[43mearly_stop_patience\u001b[49m\u001b[38;5;241;43m=\u001b[39;49m\u001b[43mEARLY_STOP_PATIENCE\u001b[49m\n\u001b[1;32m     23\u001b[0m \u001b[43m)\u001b[49m\n",
      "File \u001b[0;32m~/Documents/eq_forecast/eq_forecast/utils/train_and_eval.py:86\u001b[0m, in \u001b[0;36mtrain_and_eval\u001b[0;34m(train_set, test_set, val_set, model, num_epochs, lr, lr_factor, lr_patience, model_name, batch_size, device, checkpoint_dir, log_dir, save_interval, early_stop_patience)\u001b[0m\n\u001b[1;32m     83\u001b[0m     y_pred_train\u001b[38;5;241m.\u001b[39mappend(predictions\u001b[38;5;241m.\u001b[39mcpu()\u001b[38;5;241m.\u001b[39mdetach()\u001b[38;5;241m.\u001b[39mnumpy())\n\u001b[1;32m     85\u001b[0m \u001b[38;5;66;03m# Compute training metrics\u001b[39;00m\n\u001b[0;32m---> 86\u001b[0m train_loss \u001b[38;5;241m/\u001b[39m\u001b[38;5;241m=\u001b[39m \u001b[38;5;28mlen\u001b[39m(\u001b[43mtrain_set\u001b[49m\u001b[38;5;241;43m.\u001b[39;49m\u001b[43mdataset\u001b[49m)  \u001b[38;5;66;03m# Normalize by dataset size\u001b[39;00m\n\u001b[1;32m     87\u001b[0m y_true_train \u001b[38;5;241m=\u001b[39m np\u001b[38;5;241m.\u001b[39mconcatenate(y_true_train, axis\u001b[38;5;241m=\u001b[39m\u001b[38;5;241m0\u001b[39m)\n\u001b[1;32m     88\u001b[0m y_pred_train \u001b[38;5;241m=\u001b[39m np\u001b[38;5;241m.\u001b[39mconcatenate(y_pred_train, axis\u001b[38;5;241m=\u001b[39m\u001b[38;5;241m0\u001b[39m)\n",
      "\u001b[0;31mAttributeError\u001b[0m: 'StaticGraphTemporalSignal' object has no attribute 'dataset'"
     ]
    }
   ],
   "source": [
    "tgnn = TemporalGNN(node_features=5, \n",
    "                   periods=123,\n",
    "                   hidden_dim=HIDDEN_DIM,\n",
    "                   out_features=3,\n",
    "                   batch_size=BATCH_SIZE)\n",
    "\n",
    "train_and_eval(\n",
    "    train_set=train_dataset,\n",
    "    test_set=test_dataset,\n",
    "    val_set=val_dataset,\n",
    "    model=tgnn,\n",
    "    num_epochs=EPOCHS,\n",
    "    lr=LR,\n",
    "    lr_factor=LR_FACTOR,\n",
    "    lr_patience=LR_PATIENCE,\n",
    "    model_name=\"TGNN\",\n",
    "    batch_size=BATCH_SIZE,\n",
    "    device=torch.device('cuda' if torch.cuda.is_available() else 'cpu'),\n",
    "    checkpoint_dir=\"checkpoints\",\n",
    "    log_dir=\"runs\",\n",
    "    save_interval=10,\n",
    "    early_stop_patience=EARLY_STOP_PATIENCE\n",
    ")"
   ]
  }
 ],
 "metadata": {
  "kernelspec": {
   "display_name": "eq_geom",
   "language": "python",
   "name": "python3"
  },
  "language_info": {
   "codemirror_mode": {
    "name": "ipython",
    "version": 3
   },
   "file_extension": ".py",
   "mimetype": "text/x-python",
   "name": "python",
   "nbconvert_exporter": "python",
   "pygments_lexer": "ipython3",
   "version": "3.10.16"
  }
 },
 "nbformat": 4,
 "nbformat_minor": 2
}
